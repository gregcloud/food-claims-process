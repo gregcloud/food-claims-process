{
  "nbformat": 4,
  "nbformat_minor": 0,
  "metadata": {
    "colab": {
      "provenance": [],
      "authorship_tag": "ABX9TyMdwjPmDNl3Dp56LYlNQ0eT",
      "include_colab_link": true
    },
    "kernelspec": {
      "name": "python3",
      "display_name": "Python 3"
    },
    "language_info": {
      "name": "python"
    }
  },
  "cells": [
    {
      "cell_type": "markdown",
      "metadata": {
        "id": "view-in-github",
        "colab_type": "text"
      },
      "source": [
        "<a href=\"https://colab.research.google.com/github/gregcloud/food-claims-process/blob/main/code.ipynb\" target=\"_parent\"><img src=\"https://colab.research.google.com/assets/colab-badge.svg\" alt=\"Open In Colab\"/></a>"
      ]
    },
    {
      "cell_type": "code",
      "execution_count": 24,
      "metadata": {
        "colab": {
          "base_uri": "https://localhost:8080/"
        },
        "id": "w8YiON6BCvNH",
        "outputId": "aa026ecd-b3e4-4ae0-8cce-d8edeec31bd2"
      },
      "outputs": [
        {
          "output_type": "stream",
          "name": "stdout",
          "text": [
            "Setup complete\n"
          ]
        }
      ],
      "source": [
        "import pandas as pd\n",
        "pd.plotting.register_matplotlib_converters()\n",
        "import matplotlib.pyplot as plt\n",
        "%matplotlib inline\n",
        "import seaborn as sns\n",
        "print('Setup complete')"
      ]
    },
    {
      "cell_type": "code",
      "source": [
        "# Path on the file to read\n",
        "claims_filepath = \"./claims.csv\""
      ],
      "metadata": {
        "id": "CfJX46nuDC3k"
      },
      "execution_count": 25,
      "outputs": []
    },
    {
      "cell_type": "code",
      "source": [
        "# Read the file into a variable claims\n",
        "claims = pd.read_csv(claims_filepath)"
      ],
      "metadata": {
        "id": "4xv8xvdAR1si"
      },
      "execution_count": 26,
      "outputs": []
    },
    {
      "cell_type": "code",
      "source": [
        "# Display the first 5 rows of the data\n",
        "claims.head()"
      ],
      "metadata": {
        "colab": {
          "base_uri": "https://localhost:8080/",
          "height": 206
        },
        "id": "fys2mD4MSL22",
        "outputId": "984a7485-6e9d-4739-8999-c41fecc27d1a"
      },
      "execution_count": 27,
      "outputs": [
        {
          "output_type": "execute_result",
          "data": {
            "text/plain": [
              "                    Claim ID  Time to Close  Claim Amount  Amount Paid  \\\n",
              "0  0000000-00.2010.0.00.0094           2082   R$50,000.00     34297.47   \n",
              "1  0000000-00.2011.0.00.0086           3591  R$180,000.00     56383.54   \n",
              "2  0000000-00.2012.0.00.0092           2997   R$70,000.00     12366.76   \n",
              "3  0000000-00.2013.0.00.0096           1143   R$95,104.00     29217.16   \n",
              "4  0000000-00.2014.0.00.0097            117   R$29,000.00     12610.50   \n",
              "\n",
              "    Location  Individuals on Claim  Linked Cases       Cause  \n",
              "0     RECIFE                     2         False         NaN  \n",
              "1   SAO LUIS                     7         False         NaN  \n",
              "2   SAO LUIS                     3         False  vegetables  \n",
              "3  FORTALEZA                     4         False         NaN  \n",
              "4  FORTALEZA                     1         False        meat  "
            ],
            "text/html": [
              "\n",
              "  <div id=\"df-a2aca089-e6d6-4364-9cb0-706f44cd10ab\">\n",
              "    <div class=\"colab-df-container\">\n",
              "      <div>\n",
              "<style scoped>\n",
              "    .dataframe tbody tr th:only-of-type {\n",
              "        vertical-align: middle;\n",
              "    }\n",
              "\n",
              "    .dataframe tbody tr th {\n",
              "        vertical-align: top;\n",
              "    }\n",
              "\n",
              "    .dataframe thead th {\n",
              "        text-align: right;\n",
              "    }\n",
              "</style>\n",
              "<table border=\"1\" class=\"dataframe\">\n",
              "  <thead>\n",
              "    <tr style=\"text-align: right;\">\n",
              "      <th></th>\n",
              "      <th>Claim ID</th>\n",
              "      <th>Time to Close</th>\n",
              "      <th>Claim Amount</th>\n",
              "      <th>Amount Paid</th>\n",
              "      <th>Location</th>\n",
              "      <th>Individuals on Claim</th>\n",
              "      <th>Linked Cases</th>\n",
              "      <th>Cause</th>\n",
              "    </tr>\n",
              "  </thead>\n",
              "  <tbody>\n",
              "    <tr>\n",
              "      <th>0</th>\n",
              "      <td>0000000-00.2010.0.00.0094</td>\n",
              "      <td>2082</td>\n",
              "      <td>R$50,000.00</td>\n",
              "      <td>34297.47</td>\n",
              "      <td>RECIFE</td>\n",
              "      <td>2</td>\n",
              "      <td>False</td>\n",
              "      <td>NaN</td>\n",
              "    </tr>\n",
              "    <tr>\n",
              "      <th>1</th>\n",
              "      <td>0000000-00.2011.0.00.0086</td>\n",
              "      <td>3591</td>\n",
              "      <td>R$180,000.00</td>\n",
              "      <td>56383.54</td>\n",
              "      <td>SAO LUIS</td>\n",
              "      <td>7</td>\n",
              "      <td>False</td>\n",
              "      <td>NaN</td>\n",
              "    </tr>\n",
              "    <tr>\n",
              "      <th>2</th>\n",
              "      <td>0000000-00.2012.0.00.0092</td>\n",
              "      <td>2997</td>\n",
              "      <td>R$70,000.00</td>\n",
              "      <td>12366.76</td>\n",
              "      <td>SAO LUIS</td>\n",
              "      <td>3</td>\n",
              "      <td>False</td>\n",
              "      <td>vegetables</td>\n",
              "    </tr>\n",
              "    <tr>\n",
              "      <th>3</th>\n",
              "      <td>0000000-00.2013.0.00.0096</td>\n",
              "      <td>1143</td>\n",
              "      <td>R$95,104.00</td>\n",
              "      <td>29217.16</td>\n",
              "      <td>FORTALEZA</td>\n",
              "      <td>4</td>\n",
              "      <td>False</td>\n",
              "      <td>NaN</td>\n",
              "    </tr>\n",
              "    <tr>\n",
              "      <th>4</th>\n",
              "      <td>0000000-00.2014.0.00.0097</td>\n",
              "      <td>117</td>\n",
              "      <td>R$29,000.00</td>\n",
              "      <td>12610.50</td>\n",
              "      <td>FORTALEZA</td>\n",
              "      <td>1</td>\n",
              "      <td>False</td>\n",
              "      <td>meat</td>\n",
              "    </tr>\n",
              "  </tbody>\n",
              "</table>\n",
              "</div>\n",
              "      <button class=\"colab-df-convert\" onclick=\"convertToInteractive('df-a2aca089-e6d6-4364-9cb0-706f44cd10ab')\"\n",
              "              title=\"Convert this dataframe to an interactive table.\"\n",
              "              style=\"display:none;\">\n",
              "        \n",
              "  <svg xmlns=\"http://www.w3.org/2000/svg\" height=\"24px\"viewBox=\"0 0 24 24\"\n",
              "       width=\"24px\">\n",
              "    <path d=\"M0 0h24v24H0V0z\" fill=\"none\"/>\n",
              "    <path d=\"M18.56 5.44l.94 2.06.94-2.06 2.06-.94-2.06-.94-.94-2.06-.94 2.06-2.06.94zm-11 1L8.5 8.5l.94-2.06 2.06-.94-2.06-.94L8.5 2.5l-.94 2.06-2.06.94zm10 10l.94 2.06.94-2.06 2.06-.94-2.06-.94-.94-2.06-.94 2.06-2.06.94z\"/><path d=\"M17.41 7.96l-1.37-1.37c-.4-.4-.92-.59-1.43-.59-.52 0-1.04.2-1.43.59L10.3 9.45l-7.72 7.72c-.78.78-.78 2.05 0 2.83L4 21.41c.39.39.9.59 1.41.59.51 0 1.02-.2 1.41-.59l7.78-7.78 2.81-2.81c.8-.78.8-2.07 0-2.86zM5.41 20L4 18.59l7.72-7.72 1.47 1.35L5.41 20z\"/>\n",
              "  </svg>\n",
              "      </button>\n",
              "      \n",
              "  <style>\n",
              "    .colab-df-container {\n",
              "      display:flex;\n",
              "      flex-wrap:wrap;\n",
              "      gap: 12px;\n",
              "    }\n",
              "\n",
              "    .colab-df-convert {\n",
              "      background-color: #E8F0FE;\n",
              "      border: none;\n",
              "      border-radius: 50%;\n",
              "      cursor: pointer;\n",
              "      display: none;\n",
              "      fill: #1967D2;\n",
              "      height: 32px;\n",
              "      padding: 0 0 0 0;\n",
              "      width: 32px;\n",
              "    }\n",
              "\n",
              "    .colab-df-convert:hover {\n",
              "      background-color: #E2EBFA;\n",
              "      box-shadow: 0px 1px 2px rgba(60, 64, 67, 0.3), 0px 1px 3px 1px rgba(60, 64, 67, 0.15);\n",
              "      fill: #174EA6;\n",
              "    }\n",
              "\n",
              "    [theme=dark] .colab-df-convert {\n",
              "      background-color: #3B4455;\n",
              "      fill: #D2E3FC;\n",
              "    }\n",
              "\n",
              "    [theme=dark] .colab-df-convert:hover {\n",
              "      background-color: #434B5C;\n",
              "      box-shadow: 0px 1px 3px 1px rgba(0, 0, 0, 0.15);\n",
              "      filter: drop-shadow(0px 1px 2px rgba(0, 0, 0, 0.3));\n",
              "      fill: #FFFFFF;\n",
              "    }\n",
              "  </style>\n",
              "\n",
              "      <script>\n",
              "        const buttonEl =\n",
              "          document.querySelector('#df-a2aca089-e6d6-4364-9cb0-706f44cd10ab button.colab-df-convert');\n",
              "        buttonEl.style.display =\n",
              "          google.colab.kernel.accessAllowed ? 'block' : 'none';\n",
              "\n",
              "        async function convertToInteractive(key) {\n",
              "          const element = document.querySelector('#df-a2aca089-e6d6-4364-9cb0-706f44cd10ab');\n",
              "          const dataTable =\n",
              "            await google.colab.kernel.invokeFunction('convertToInteractive',\n",
              "                                                     [key], {});\n",
              "          if (!dataTable) return;\n",
              "\n",
              "          const docLinkHtml = 'Like what you see? Visit the ' +\n",
              "            '<a target=\"_blank\" href=https://colab.research.google.com/notebooks/data_table.ipynb>data table notebook</a>'\n",
              "            + ' to learn more about interactive tables.';\n",
              "          element.innerHTML = '';\n",
              "          dataTable['output_type'] = 'display_data';\n",
              "          await google.colab.output.renderOutput(dataTable, element);\n",
              "          const docLink = document.createElement('div');\n",
              "          docLink.innerHTML = docLinkHtml;\n",
              "          element.appendChild(docLink);\n",
              "        }\n",
              "      </script>\n",
              "    </div>\n",
              "  </div>\n",
              "  "
            ]
          },
          "metadata": {},
          "execution_count": 27
        }
      ]
    },
    {
      "cell_type": "code",
      "source": [
        "# Display the last 5 rows of the data\n",
        "claims.tail()"
      ],
      "metadata": {
        "colab": {
          "base_uri": "https://localhost:8080/",
          "height": 206
        },
        "id": "0VwDnnMpTD6G",
        "outputId": "bfb682ef-8d02-40bb-aacc-14667fdfa8bb"
      },
      "execution_count": 28,
      "outputs": [
        {
          "output_type": "execute_result",
          "data": {
            "text/plain": [
              "                     Claim ID  Time to Close  Claim Amount  Amount Paid  \\\n",
              "93  0000000-00.2020.0.00.0023            208   R$80,396.00     40668.14   \n",
              "94  0000000-00.2020.0.00.0057             86   R$50,000.00      8363.96   \n",
              "95  0000000-00.2020.0.00.0010            201   R$60,000.00     42318.80   \n",
              "96  0000000-00.2020.0.00.0059            200  R$474,542.00    329473.49   \n",
              "97  0000000-00.2020.0.00.0073            195   R$40,000.00     15406.95   \n",
              "\n",
              "     Location  Individuals on Claim  Linked Cases Cause  \n",
              "93  FORTALEZA                     3         False  meat  \n",
              "94  FORTALEZA                     2         False   NaN  \n",
              "95      NATAL                     2         False   NaN  \n",
              "96      NATAL                    20          True   NaN  \n",
              "97      NATAL                     1         False   NaN  "
            ],
            "text/html": [
              "\n",
              "  <div id=\"df-bf10cc63-5511-425a-a3cc-a296cf7195e0\">\n",
              "    <div class=\"colab-df-container\">\n",
              "      <div>\n",
              "<style scoped>\n",
              "    .dataframe tbody tr th:only-of-type {\n",
              "        vertical-align: middle;\n",
              "    }\n",
              "\n",
              "    .dataframe tbody tr th {\n",
              "        vertical-align: top;\n",
              "    }\n",
              "\n",
              "    .dataframe thead th {\n",
              "        text-align: right;\n",
              "    }\n",
              "</style>\n",
              "<table border=\"1\" class=\"dataframe\">\n",
              "  <thead>\n",
              "    <tr style=\"text-align: right;\">\n",
              "      <th></th>\n",
              "      <th>Claim ID</th>\n",
              "      <th>Time to Close</th>\n",
              "      <th>Claim Amount</th>\n",
              "      <th>Amount Paid</th>\n",
              "      <th>Location</th>\n",
              "      <th>Individuals on Claim</th>\n",
              "      <th>Linked Cases</th>\n",
              "      <th>Cause</th>\n",
              "    </tr>\n",
              "  </thead>\n",
              "  <tbody>\n",
              "    <tr>\n",
              "      <th>93</th>\n",
              "      <td>0000000-00.2020.0.00.0023</td>\n",
              "      <td>208</td>\n",
              "      <td>R$80,396.00</td>\n",
              "      <td>40668.14</td>\n",
              "      <td>FORTALEZA</td>\n",
              "      <td>3</td>\n",
              "      <td>False</td>\n",
              "      <td>meat</td>\n",
              "    </tr>\n",
              "    <tr>\n",
              "      <th>94</th>\n",
              "      <td>0000000-00.2020.0.00.0057</td>\n",
              "      <td>86</td>\n",
              "      <td>R$50,000.00</td>\n",
              "      <td>8363.96</td>\n",
              "      <td>FORTALEZA</td>\n",
              "      <td>2</td>\n",
              "      <td>False</td>\n",
              "      <td>NaN</td>\n",
              "    </tr>\n",
              "    <tr>\n",
              "      <th>95</th>\n",
              "      <td>0000000-00.2020.0.00.0010</td>\n",
              "      <td>201</td>\n",
              "      <td>R$60,000.00</td>\n",
              "      <td>42318.80</td>\n",
              "      <td>NATAL</td>\n",
              "      <td>2</td>\n",
              "      <td>False</td>\n",
              "      <td>NaN</td>\n",
              "    </tr>\n",
              "    <tr>\n",
              "      <th>96</th>\n",
              "      <td>0000000-00.2020.0.00.0059</td>\n",
              "      <td>200</td>\n",
              "      <td>R$474,542.00</td>\n",
              "      <td>329473.49</td>\n",
              "      <td>NATAL</td>\n",
              "      <td>20</td>\n",
              "      <td>True</td>\n",
              "      <td>NaN</td>\n",
              "    </tr>\n",
              "    <tr>\n",
              "      <th>97</th>\n",
              "      <td>0000000-00.2020.0.00.0073</td>\n",
              "      <td>195</td>\n",
              "      <td>R$40,000.00</td>\n",
              "      <td>15406.95</td>\n",
              "      <td>NATAL</td>\n",
              "      <td>1</td>\n",
              "      <td>False</td>\n",
              "      <td>NaN</td>\n",
              "    </tr>\n",
              "  </tbody>\n",
              "</table>\n",
              "</div>\n",
              "      <button class=\"colab-df-convert\" onclick=\"convertToInteractive('df-bf10cc63-5511-425a-a3cc-a296cf7195e0')\"\n",
              "              title=\"Convert this dataframe to an interactive table.\"\n",
              "              style=\"display:none;\">\n",
              "        \n",
              "  <svg xmlns=\"http://www.w3.org/2000/svg\" height=\"24px\"viewBox=\"0 0 24 24\"\n",
              "       width=\"24px\">\n",
              "    <path d=\"M0 0h24v24H0V0z\" fill=\"none\"/>\n",
              "    <path d=\"M18.56 5.44l.94 2.06.94-2.06 2.06-.94-2.06-.94-.94-2.06-.94 2.06-2.06.94zm-11 1L8.5 8.5l.94-2.06 2.06-.94-2.06-.94L8.5 2.5l-.94 2.06-2.06.94zm10 10l.94 2.06.94-2.06 2.06-.94-2.06-.94-.94-2.06-.94 2.06-2.06.94z\"/><path d=\"M17.41 7.96l-1.37-1.37c-.4-.4-.92-.59-1.43-.59-.52 0-1.04.2-1.43.59L10.3 9.45l-7.72 7.72c-.78.78-.78 2.05 0 2.83L4 21.41c.39.39.9.59 1.41.59.51 0 1.02-.2 1.41-.59l7.78-7.78 2.81-2.81c.8-.78.8-2.07 0-2.86zM5.41 20L4 18.59l7.72-7.72 1.47 1.35L5.41 20z\"/>\n",
              "  </svg>\n",
              "      </button>\n",
              "      \n",
              "  <style>\n",
              "    .colab-df-container {\n",
              "      display:flex;\n",
              "      flex-wrap:wrap;\n",
              "      gap: 12px;\n",
              "    }\n",
              "\n",
              "    .colab-df-convert {\n",
              "      background-color: #E8F0FE;\n",
              "      border: none;\n",
              "      border-radius: 50%;\n",
              "      cursor: pointer;\n",
              "      display: none;\n",
              "      fill: #1967D2;\n",
              "      height: 32px;\n",
              "      padding: 0 0 0 0;\n",
              "      width: 32px;\n",
              "    }\n",
              "\n",
              "    .colab-df-convert:hover {\n",
              "      background-color: #E2EBFA;\n",
              "      box-shadow: 0px 1px 2px rgba(60, 64, 67, 0.3), 0px 1px 3px 1px rgba(60, 64, 67, 0.15);\n",
              "      fill: #174EA6;\n",
              "    }\n",
              "\n",
              "    [theme=dark] .colab-df-convert {\n",
              "      background-color: #3B4455;\n",
              "      fill: #D2E3FC;\n",
              "    }\n",
              "\n",
              "    [theme=dark] .colab-df-convert:hover {\n",
              "      background-color: #434B5C;\n",
              "      box-shadow: 0px 1px 3px 1px rgba(0, 0, 0, 0.15);\n",
              "      filter: drop-shadow(0px 1px 2px rgba(0, 0, 0, 0.3));\n",
              "      fill: #FFFFFF;\n",
              "    }\n",
              "  </style>\n",
              "\n",
              "      <script>\n",
              "        const buttonEl =\n",
              "          document.querySelector('#df-bf10cc63-5511-425a-a3cc-a296cf7195e0 button.colab-df-convert');\n",
              "        buttonEl.style.display =\n",
              "          google.colab.kernel.accessAllowed ? 'block' : 'none';\n",
              "\n",
              "        async function convertToInteractive(key) {\n",
              "          const element = document.querySelector('#df-bf10cc63-5511-425a-a3cc-a296cf7195e0');\n",
              "          const dataTable =\n",
              "            await google.colab.kernel.invokeFunction('convertToInteractive',\n",
              "                                                     [key], {});\n",
              "          if (!dataTable) return;\n",
              "\n",
              "          const docLinkHtml = 'Like what you see? Visit the ' +\n",
              "            '<a target=\"_blank\" href=https://colab.research.google.com/notebooks/data_table.ipynb>data table notebook</a>'\n",
              "            + ' to learn more about interactive tables.';\n",
              "          element.innerHTML = '';\n",
              "          dataTable['output_type'] = 'display_data';\n",
              "          await google.colab.output.renderOutput(dataTable, element);\n",
              "          const docLink = document.createElement('div');\n",
              "          docLink.innerHTML = docLinkHtml;\n",
              "          element.appendChild(docLink);\n",
              "        }\n",
              "      </script>\n",
              "    </div>\n",
              "  </div>\n",
              "  "
            ]
          },
          "metadata": {},
          "execution_count": 28
        }
      ]
    },
    {
      "cell_type": "code",
      "source": [
        "# Display all rows of the data\n",
        "claims"
      ],
      "metadata": {
        "colab": {
          "base_uri": "https://localhost:8080/",
          "height": 424
        },
        "id": "uovxha8TTKsq",
        "outputId": "708ebe34-7c54-46d7-c034-243b3e9a52e5"
      },
      "execution_count": 29,
      "outputs": [
        {
          "output_type": "execute_result",
          "data": {
            "text/plain": [
              "                     Claim ID  Time to Close  Claim Amount  Amount Paid  \\\n",
              "0   0000000-00.2010.0.00.0094           2082   R$50,000.00     34297.47   \n",
              "1   0000000-00.2011.0.00.0086           3591  R$180,000.00     56383.54   \n",
              "2   0000000-00.2012.0.00.0092           2997   R$70,000.00     12366.76   \n",
              "3   0000000-00.2013.0.00.0096           1143   R$95,104.00     29217.16   \n",
              "4   0000000-00.2014.0.00.0097            117   R$29,000.00     12610.50   \n",
              "..                        ...            ...           ...          ...   \n",
              "93  0000000-00.2020.0.00.0023            208   R$80,396.00     40668.14   \n",
              "94  0000000-00.2020.0.00.0057             86   R$50,000.00      8363.96   \n",
              "95  0000000-00.2020.0.00.0010            201   R$60,000.00     42318.80   \n",
              "96  0000000-00.2020.0.00.0059            200  R$474,542.00    329473.49   \n",
              "97  0000000-00.2020.0.00.0073            195   R$40,000.00     15406.95   \n",
              "\n",
              "     Location  Individuals on Claim  Linked Cases       Cause  \n",
              "0      RECIFE                     2         False         NaN  \n",
              "1    SAO LUIS                     7         False         NaN  \n",
              "2    SAO LUIS                     3         False  vegetables  \n",
              "3   FORTALEZA                     4         False         NaN  \n",
              "4   FORTALEZA                     1         False        meat  \n",
              "..        ...                   ...           ...         ...  \n",
              "93  FORTALEZA                     3         False        meat  \n",
              "94  FORTALEZA                     2         False         NaN  \n",
              "95      NATAL                     2         False         NaN  \n",
              "96      NATAL                    20          True         NaN  \n",
              "97      NATAL                     1         False         NaN  \n",
              "\n",
              "[98 rows x 8 columns]"
            ],
            "text/html": [
              "\n",
              "  <div id=\"df-a977253e-dd6b-4f29-8b4c-ac84845d9d9d\">\n",
              "    <div class=\"colab-df-container\">\n",
              "      <div>\n",
              "<style scoped>\n",
              "    .dataframe tbody tr th:only-of-type {\n",
              "        vertical-align: middle;\n",
              "    }\n",
              "\n",
              "    .dataframe tbody tr th {\n",
              "        vertical-align: top;\n",
              "    }\n",
              "\n",
              "    .dataframe thead th {\n",
              "        text-align: right;\n",
              "    }\n",
              "</style>\n",
              "<table border=\"1\" class=\"dataframe\">\n",
              "  <thead>\n",
              "    <tr style=\"text-align: right;\">\n",
              "      <th></th>\n",
              "      <th>Claim ID</th>\n",
              "      <th>Time to Close</th>\n",
              "      <th>Claim Amount</th>\n",
              "      <th>Amount Paid</th>\n",
              "      <th>Location</th>\n",
              "      <th>Individuals on Claim</th>\n",
              "      <th>Linked Cases</th>\n",
              "      <th>Cause</th>\n",
              "    </tr>\n",
              "  </thead>\n",
              "  <tbody>\n",
              "    <tr>\n",
              "      <th>0</th>\n",
              "      <td>0000000-00.2010.0.00.0094</td>\n",
              "      <td>2082</td>\n",
              "      <td>R$50,000.00</td>\n",
              "      <td>34297.47</td>\n",
              "      <td>RECIFE</td>\n",
              "      <td>2</td>\n",
              "      <td>False</td>\n",
              "      <td>NaN</td>\n",
              "    </tr>\n",
              "    <tr>\n",
              "      <th>1</th>\n",
              "      <td>0000000-00.2011.0.00.0086</td>\n",
              "      <td>3591</td>\n",
              "      <td>R$180,000.00</td>\n",
              "      <td>56383.54</td>\n",
              "      <td>SAO LUIS</td>\n",
              "      <td>7</td>\n",
              "      <td>False</td>\n",
              "      <td>NaN</td>\n",
              "    </tr>\n",
              "    <tr>\n",
              "      <th>2</th>\n",
              "      <td>0000000-00.2012.0.00.0092</td>\n",
              "      <td>2997</td>\n",
              "      <td>R$70,000.00</td>\n",
              "      <td>12366.76</td>\n",
              "      <td>SAO LUIS</td>\n",
              "      <td>3</td>\n",
              "      <td>False</td>\n",
              "      <td>vegetables</td>\n",
              "    </tr>\n",
              "    <tr>\n",
              "      <th>3</th>\n",
              "      <td>0000000-00.2013.0.00.0096</td>\n",
              "      <td>1143</td>\n",
              "      <td>R$95,104.00</td>\n",
              "      <td>29217.16</td>\n",
              "      <td>FORTALEZA</td>\n",
              "      <td>4</td>\n",
              "      <td>False</td>\n",
              "      <td>NaN</td>\n",
              "    </tr>\n",
              "    <tr>\n",
              "      <th>4</th>\n",
              "      <td>0000000-00.2014.0.00.0097</td>\n",
              "      <td>117</td>\n",
              "      <td>R$29,000.00</td>\n",
              "      <td>12610.50</td>\n",
              "      <td>FORTALEZA</td>\n",
              "      <td>1</td>\n",
              "      <td>False</td>\n",
              "      <td>meat</td>\n",
              "    </tr>\n",
              "    <tr>\n",
              "      <th>...</th>\n",
              "      <td>...</td>\n",
              "      <td>...</td>\n",
              "      <td>...</td>\n",
              "      <td>...</td>\n",
              "      <td>...</td>\n",
              "      <td>...</td>\n",
              "      <td>...</td>\n",
              "      <td>...</td>\n",
              "    </tr>\n",
              "    <tr>\n",
              "      <th>93</th>\n",
              "      <td>0000000-00.2020.0.00.0023</td>\n",
              "      <td>208</td>\n",
              "      <td>R$80,396.00</td>\n",
              "      <td>40668.14</td>\n",
              "      <td>FORTALEZA</td>\n",
              "      <td>3</td>\n",
              "      <td>False</td>\n",
              "      <td>meat</td>\n",
              "    </tr>\n",
              "    <tr>\n",
              "      <th>94</th>\n",
              "      <td>0000000-00.2020.0.00.0057</td>\n",
              "      <td>86</td>\n",
              "      <td>R$50,000.00</td>\n",
              "      <td>8363.96</td>\n",
              "      <td>FORTALEZA</td>\n",
              "      <td>2</td>\n",
              "      <td>False</td>\n",
              "      <td>NaN</td>\n",
              "    </tr>\n",
              "    <tr>\n",
              "      <th>95</th>\n",
              "      <td>0000000-00.2020.0.00.0010</td>\n",
              "      <td>201</td>\n",
              "      <td>R$60,000.00</td>\n",
              "      <td>42318.80</td>\n",
              "      <td>NATAL</td>\n",
              "      <td>2</td>\n",
              "      <td>False</td>\n",
              "      <td>NaN</td>\n",
              "    </tr>\n",
              "    <tr>\n",
              "      <th>96</th>\n",
              "      <td>0000000-00.2020.0.00.0059</td>\n",
              "      <td>200</td>\n",
              "      <td>R$474,542.00</td>\n",
              "      <td>329473.49</td>\n",
              "      <td>NATAL</td>\n",
              "      <td>20</td>\n",
              "      <td>True</td>\n",
              "      <td>NaN</td>\n",
              "    </tr>\n",
              "    <tr>\n",
              "      <th>97</th>\n",
              "      <td>0000000-00.2020.0.00.0073</td>\n",
              "      <td>195</td>\n",
              "      <td>R$40,000.00</td>\n",
              "      <td>15406.95</td>\n",
              "      <td>NATAL</td>\n",
              "      <td>1</td>\n",
              "      <td>False</td>\n",
              "      <td>NaN</td>\n",
              "    </tr>\n",
              "  </tbody>\n",
              "</table>\n",
              "<p>98 rows × 8 columns</p>\n",
              "</div>\n",
              "      <button class=\"colab-df-convert\" onclick=\"convertToInteractive('df-a977253e-dd6b-4f29-8b4c-ac84845d9d9d')\"\n",
              "              title=\"Convert this dataframe to an interactive table.\"\n",
              "              style=\"display:none;\">\n",
              "        \n",
              "  <svg xmlns=\"http://www.w3.org/2000/svg\" height=\"24px\"viewBox=\"0 0 24 24\"\n",
              "       width=\"24px\">\n",
              "    <path d=\"M0 0h24v24H0V0z\" fill=\"none\"/>\n",
              "    <path d=\"M18.56 5.44l.94 2.06.94-2.06 2.06-.94-2.06-.94-.94-2.06-.94 2.06-2.06.94zm-11 1L8.5 8.5l.94-2.06 2.06-.94-2.06-.94L8.5 2.5l-.94 2.06-2.06.94zm10 10l.94 2.06.94-2.06 2.06-.94-2.06-.94-.94-2.06-.94 2.06-2.06.94z\"/><path d=\"M17.41 7.96l-1.37-1.37c-.4-.4-.92-.59-1.43-.59-.52 0-1.04.2-1.43.59L10.3 9.45l-7.72 7.72c-.78.78-.78 2.05 0 2.83L4 21.41c.39.39.9.59 1.41.59.51 0 1.02-.2 1.41-.59l7.78-7.78 2.81-2.81c.8-.78.8-2.07 0-2.86zM5.41 20L4 18.59l7.72-7.72 1.47 1.35L5.41 20z\"/>\n",
              "  </svg>\n",
              "      </button>\n",
              "      \n",
              "  <style>\n",
              "    .colab-df-container {\n",
              "      display:flex;\n",
              "      flex-wrap:wrap;\n",
              "      gap: 12px;\n",
              "    }\n",
              "\n",
              "    .colab-df-convert {\n",
              "      background-color: #E8F0FE;\n",
              "      border: none;\n",
              "      border-radius: 50%;\n",
              "      cursor: pointer;\n",
              "      display: none;\n",
              "      fill: #1967D2;\n",
              "      height: 32px;\n",
              "      padding: 0 0 0 0;\n",
              "      width: 32px;\n",
              "    }\n",
              "\n",
              "    .colab-df-convert:hover {\n",
              "      background-color: #E2EBFA;\n",
              "      box-shadow: 0px 1px 2px rgba(60, 64, 67, 0.3), 0px 1px 3px 1px rgba(60, 64, 67, 0.15);\n",
              "      fill: #174EA6;\n",
              "    }\n",
              "\n",
              "    [theme=dark] .colab-df-convert {\n",
              "      background-color: #3B4455;\n",
              "      fill: #D2E3FC;\n",
              "    }\n",
              "\n",
              "    [theme=dark] .colab-df-convert:hover {\n",
              "      background-color: #434B5C;\n",
              "      box-shadow: 0px 1px 3px 1px rgba(0, 0, 0, 0.15);\n",
              "      filter: drop-shadow(0px 1px 2px rgba(0, 0, 0, 0.3));\n",
              "      fill: #FFFFFF;\n",
              "    }\n",
              "  </style>\n",
              "\n",
              "      <script>\n",
              "        const buttonEl =\n",
              "          document.querySelector('#df-a977253e-dd6b-4f29-8b4c-ac84845d9d9d button.colab-df-convert');\n",
              "        buttonEl.style.display =\n",
              "          google.colab.kernel.accessAllowed ? 'block' : 'none';\n",
              "\n",
              "        async function convertToInteractive(key) {\n",
              "          const element = document.querySelector('#df-a977253e-dd6b-4f29-8b4c-ac84845d9d9d');\n",
              "          const dataTable =\n",
              "            await google.colab.kernel.invokeFunction('convertToInteractive',\n",
              "                                                     [key], {});\n",
              "          if (!dataTable) return;\n",
              "\n",
              "          const docLinkHtml = 'Like what you see? Visit the ' +\n",
              "            '<a target=\"_blank\" href=https://colab.research.google.com/notebooks/data_table.ipynb>data table notebook</a>'\n",
              "            + ' to learn more about interactive tables.';\n",
              "          element.innerHTML = '';\n",
              "          dataTable['output_type'] = 'display_data';\n",
              "          await google.colab.output.renderOutput(dataTable, element);\n",
              "          const docLink = document.createElement('div');\n",
              "          docLink.innerHTML = docLinkHtml;\n",
              "          element.appendChild(docLink);\n",
              "        }\n",
              "      </script>\n",
              "    </div>\n",
              "  </div>\n",
              "  "
            ]
          },
          "metadata": {},
          "execution_count": 29
        }
      ]
    },
    {
      "cell_type": "code",
      "source": [
        "# Summary of the claims data to inspect\n",
        "claims.info()"
      ],
      "metadata": {
        "colab": {
          "base_uri": "https://localhost:8080/"
        },
        "id": "NjStMhQyTQu_",
        "outputId": "4d6323d2-0aa0-417e-8f85-e273f677f1b5"
      },
      "execution_count": 30,
      "outputs": [
        {
          "output_type": "stream",
          "name": "stdout",
          "text": [
            "<class 'pandas.core.frame.DataFrame'>\n",
            "RangeIndex: 98 entries, 0 to 97\n",
            "Data columns (total 8 columns):\n",
            " #   Column                Non-Null Count  Dtype  \n",
            "---  ------                --------------  -----  \n",
            " 0   Claim ID              98 non-null     object \n",
            " 1   Time to Close         98 non-null     int64  \n",
            " 2   Claim Amount          98 non-null     object \n",
            " 3   Amount Paid           98 non-null     float64\n",
            " 4   Location              98 non-null     object \n",
            " 5   Individuals on Claim  98 non-null     int64  \n",
            " 6   Linked Cases          98 non-null     bool   \n",
            " 7   Cause                 20 non-null     object \n",
            "dtypes: bool(1), float64(1), int64(2), object(4)\n",
            "memory usage: 5.6+ KB\n"
          ]
        }
      ]
    },
    {
      "cell_type": "code",
      "source": [
        "## The initial claim value in the currency of Brazil should be converted. Ex: “R$50,000.00” should be converted into 50000.\n",
        "claims['Claim Amount'] = claims['Claim Amount'].str.replace('R','', regex=True)\n",
        "claims['Claim Amount'] = claims['Claim Amount'].str.replace('$','', regex=True)\n",
        "claims['Claim Amount'] = claims['Claim Amount'].str.replace(',','', regex=True)\n",
        "claims['Claim Amount'] = claims['Claim Amount'].astype(float)"
      ],
      "metadata": {
        "id": "uuPigUpVTaWB"
      },
      "execution_count": 31,
      "outputs": []
    },
    {
      "cell_type": "code",
      "source": [
        "# Let's see the change\n",
        "claims.info()"
      ],
      "metadata": {
        "colab": {
          "base_uri": "https://localhost:8080/"
        },
        "id": "UcwLUd_dVNUx",
        "outputId": "d7e84518-bd58-41f4-9d3e-085870566d80"
      },
      "execution_count": 32,
      "outputs": [
        {
          "output_type": "stream",
          "name": "stdout",
          "text": [
            "<class 'pandas.core.frame.DataFrame'>\n",
            "RangeIndex: 98 entries, 0 to 97\n",
            "Data columns (total 8 columns):\n",
            " #   Column                Non-Null Count  Dtype  \n",
            "---  ------                --------------  -----  \n",
            " 0   Claim ID              98 non-null     object \n",
            " 1   Time to Close         98 non-null     int64  \n",
            " 2   Claim Amount          98 non-null     float64\n",
            " 3   Amount Paid           98 non-null     float64\n",
            " 4   Location              98 non-null     object \n",
            " 5   Individuals on Claim  98 non-null     int64  \n",
            " 6   Linked Cases          98 non-null     bool   \n",
            " 7   Cause                 20 non-null     object \n",
            "dtypes: bool(1), float64(2), int64(2), object(3)\n",
            "memory usage: 5.6+ KB\n"
          ]
        }
      ]
    },
    {
      "cell_type": "code",
      "source": [
        "# Let's see the change\n",
        "claims"
      ],
      "metadata": {
        "colab": {
          "base_uri": "https://localhost:8080/",
          "height": 424
        },
        "id": "IrH2C7nQVT8m",
        "outputId": "df01ef3c-acee-4bdd-cd01-6e5a8e316ca3"
      },
      "execution_count": 33,
      "outputs": [
        {
          "output_type": "execute_result",
          "data": {
            "text/plain": [
              "                     Claim ID  Time to Close  Claim Amount  Amount Paid  \\\n",
              "0   0000000-00.2010.0.00.0094           2082       50000.0     34297.47   \n",
              "1   0000000-00.2011.0.00.0086           3591      180000.0     56383.54   \n",
              "2   0000000-00.2012.0.00.0092           2997       70000.0     12366.76   \n",
              "3   0000000-00.2013.0.00.0096           1143       95104.0     29217.16   \n",
              "4   0000000-00.2014.0.00.0097            117       29000.0     12610.50   \n",
              "..                        ...            ...           ...          ...   \n",
              "93  0000000-00.2020.0.00.0023            208       80396.0     40668.14   \n",
              "94  0000000-00.2020.0.00.0057             86       50000.0      8363.96   \n",
              "95  0000000-00.2020.0.00.0010            201       60000.0     42318.80   \n",
              "96  0000000-00.2020.0.00.0059            200      474542.0    329473.49   \n",
              "97  0000000-00.2020.0.00.0073            195       40000.0     15406.95   \n",
              "\n",
              "     Location  Individuals on Claim  Linked Cases       Cause  \n",
              "0      RECIFE                     2         False         NaN  \n",
              "1    SAO LUIS                     7         False         NaN  \n",
              "2    SAO LUIS                     3         False  vegetables  \n",
              "3   FORTALEZA                     4         False         NaN  \n",
              "4   FORTALEZA                     1         False        meat  \n",
              "..        ...                   ...           ...         ...  \n",
              "93  FORTALEZA                     3         False        meat  \n",
              "94  FORTALEZA                     2         False         NaN  \n",
              "95      NATAL                     2         False         NaN  \n",
              "96      NATAL                    20          True         NaN  \n",
              "97      NATAL                     1         False         NaN  \n",
              "\n",
              "[98 rows x 8 columns]"
            ],
            "text/html": [
              "\n",
              "  <div id=\"df-6be0645a-6885-4635-937d-590fdd7ff02e\">\n",
              "    <div class=\"colab-df-container\">\n",
              "      <div>\n",
              "<style scoped>\n",
              "    .dataframe tbody tr th:only-of-type {\n",
              "        vertical-align: middle;\n",
              "    }\n",
              "\n",
              "    .dataframe tbody tr th {\n",
              "        vertical-align: top;\n",
              "    }\n",
              "\n",
              "    .dataframe thead th {\n",
              "        text-align: right;\n",
              "    }\n",
              "</style>\n",
              "<table border=\"1\" class=\"dataframe\">\n",
              "  <thead>\n",
              "    <tr style=\"text-align: right;\">\n",
              "      <th></th>\n",
              "      <th>Claim ID</th>\n",
              "      <th>Time to Close</th>\n",
              "      <th>Claim Amount</th>\n",
              "      <th>Amount Paid</th>\n",
              "      <th>Location</th>\n",
              "      <th>Individuals on Claim</th>\n",
              "      <th>Linked Cases</th>\n",
              "      <th>Cause</th>\n",
              "    </tr>\n",
              "  </thead>\n",
              "  <tbody>\n",
              "    <tr>\n",
              "      <th>0</th>\n",
              "      <td>0000000-00.2010.0.00.0094</td>\n",
              "      <td>2082</td>\n",
              "      <td>50000.0</td>\n",
              "      <td>34297.47</td>\n",
              "      <td>RECIFE</td>\n",
              "      <td>2</td>\n",
              "      <td>False</td>\n",
              "      <td>NaN</td>\n",
              "    </tr>\n",
              "    <tr>\n",
              "      <th>1</th>\n",
              "      <td>0000000-00.2011.0.00.0086</td>\n",
              "      <td>3591</td>\n",
              "      <td>180000.0</td>\n",
              "      <td>56383.54</td>\n",
              "      <td>SAO LUIS</td>\n",
              "      <td>7</td>\n",
              "      <td>False</td>\n",
              "      <td>NaN</td>\n",
              "    </tr>\n",
              "    <tr>\n",
              "      <th>2</th>\n",
              "      <td>0000000-00.2012.0.00.0092</td>\n",
              "      <td>2997</td>\n",
              "      <td>70000.0</td>\n",
              "      <td>12366.76</td>\n",
              "      <td>SAO LUIS</td>\n",
              "      <td>3</td>\n",
              "      <td>False</td>\n",
              "      <td>vegetables</td>\n",
              "    </tr>\n",
              "    <tr>\n",
              "      <th>3</th>\n",
              "      <td>0000000-00.2013.0.00.0096</td>\n",
              "      <td>1143</td>\n",
              "      <td>95104.0</td>\n",
              "      <td>29217.16</td>\n",
              "      <td>FORTALEZA</td>\n",
              "      <td>4</td>\n",
              "      <td>False</td>\n",
              "      <td>NaN</td>\n",
              "    </tr>\n",
              "    <tr>\n",
              "      <th>4</th>\n",
              "      <td>0000000-00.2014.0.00.0097</td>\n",
              "      <td>117</td>\n",
              "      <td>29000.0</td>\n",
              "      <td>12610.50</td>\n",
              "      <td>FORTALEZA</td>\n",
              "      <td>1</td>\n",
              "      <td>False</td>\n",
              "      <td>meat</td>\n",
              "    </tr>\n",
              "    <tr>\n",
              "      <th>...</th>\n",
              "      <td>...</td>\n",
              "      <td>...</td>\n",
              "      <td>...</td>\n",
              "      <td>...</td>\n",
              "      <td>...</td>\n",
              "      <td>...</td>\n",
              "      <td>...</td>\n",
              "      <td>...</td>\n",
              "    </tr>\n",
              "    <tr>\n",
              "      <th>93</th>\n",
              "      <td>0000000-00.2020.0.00.0023</td>\n",
              "      <td>208</td>\n",
              "      <td>80396.0</td>\n",
              "      <td>40668.14</td>\n",
              "      <td>FORTALEZA</td>\n",
              "      <td>3</td>\n",
              "      <td>False</td>\n",
              "      <td>meat</td>\n",
              "    </tr>\n",
              "    <tr>\n",
              "      <th>94</th>\n",
              "      <td>0000000-00.2020.0.00.0057</td>\n",
              "      <td>86</td>\n",
              "      <td>50000.0</td>\n",
              "      <td>8363.96</td>\n",
              "      <td>FORTALEZA</td>\n",
              "      <td>2</td>\n",
              "      <td>False</td>\n",
              "      <td>NaN</td>\n",
              "    </tr>\n",
              "    <tr>\n",
              "      <th>95</th>\n",
              "      <td>0000000-00.2020.0.00.0010</td>\n",
              "      <td>201</td>\n",
              "      <td>60000.0</td>\n",
              "      <td>42318.80</td>\n",
              "      <td>NATAL</td>\n",
              "      <td>2</td>\n",
              "      <td>False</td>\n",
              "      <td>NaN</td>\n",
              "    </tr>\n",
              "    <tr>\n",
              "      <th>96</th>\n",
              "      <td>0000000-00.2020.0.00.0059</td>\n",
              "      <td>200</td>\n",
              "      <td>474542.0</td>\n",
              "      <td>329473.49</td>\n",
              "      <td>NATAL</td>\n",
              "      <td>20</td>\n",
              "      <td>True</td>\n",
              "      <td>NaN</td>\n",
              "    </tr>\n",
              "    <tr>\n",
              "      <th>97</th>\n",
              "      <td>0000000-00.2020.0.00.0073</td>\n",
              "      <td>195</td>\n",
              "      <td>40000.0</td>\n",
              "      <td>15406.95</td>\n",
              "      <td>NATAL</td>\n",
              "      <td>1</td>\n",
              "      <td>False</td>\n",
              "      <td>NaN</td>\n",
              "    </tr>\n",
              "  </tbody>\n",
              "</table>\n",
              "<p>98 rows × 8 columns</p>\n",
              "</div>\n",
              "      <button class=\"colab-df-convert\" onclick=\"convertToInteractive('df-6be0645a-6885-4635-937d-590fdd7ff02e')\"\n",
              "              title=\"Convert this dataframe to an interactive table.\"\n",
              "              style=\"display:none;\">\n",
              "        \n",
              "  <svg xmlns=\"http://www.w3.org/2000/svg\" height=\"24px\"viewBox=\"0 0 24 24\"\n",
              "       width=\"24px\">\n",
              "    <path d=\"M0 0h24v24H0V0z\" fill=\"none\"/>\n",
              "    <path d=\"M18.56 5.44l.94 2.06.94-2.06 2.06-.94-2.06-.94-.94-2.06-.94 2.06-2.06.94zm-11 1L8.5 8.5l.94-2.06 2.06-.94-2.06-.94L8.5 2.5l-.94 2.06-2.06.94zm10 10l.94 2.06.94-2.06 2.06-.94-2.06-.94-.94-2.06-.94 2.06-2.06.94z\"/><path d=\"M17.41 7.96l-1.37-1.37c-.4-.4-.92-.59-1.43-.59-.52 0-1.04.2-1.43.59L10.3 9.45l-7.72 7.72c-.78.78-.78 2.05 0 2.83L4 21.41c.39.39.9.59 1.41.59.51 0 1.02-.2 1.41-.59l7.78-7.78 2.81-2.81c.8-.78.8-2.07 0-2.86zM5.41 20L4 18.59l7.72-7.72 1.47 1.35L5.41 20z\"/>\n",
              "  </svg>\n",
              "      </button>\n",
              "      \n",
              "  <style>\n",
              "    .colab-df-container {\n",
              "      display:flex;\n",
              "      flex-wrap:wrap;\n",
              "      gap: 12px;\n",
              "    }\n",
              "\n",
              "    .colab-df-convert {\n",
              "      background-color: #E8F0FE;\n",
              "      border: none;\n",
              "      border-radius: 50%;\n",
              "      cursor: pointer;\n",
              "      display: none;\n",
              "      fill: #1967D2;\n",
              "      height: 32px;\n",
              "      padding: 0 0 0 0;\n",
              "      width: 32px;\n",
              "    }\n",
              "\n",
              "    .colab-df-convert:hover {\n",
              "      background-color: #E2EBFA;\n",
              "      box-shadow: 0px 1px 2px rgba(60, 64, 67, 0.3), 0px 1px 3px 1px rgba(60, 64, 67, 0.15);\n",
              "      fill: #174EA6;\n",
              "    }\n",
              "\n",
              "    [theme=dark] .colab-df-convert {\n",
              "      background-color: #3B4455;\n",
              "      fill: #D2E3FC;\n",
              "    }\n",
              "\n",
              "    [theme=dark] .colab-df-convert:hover {\n",
              "      background-color: #434B5C;\n",
              "      box-shadow: 0px 1px 3px 1px rgba(0, 0, 0, 0.15);\n",
              "      filter: drop-shadow(0px 1px 2px rgba(0, 0, 0, 0.3));\n",
              "      fill: #FFFFFF;\n",
              "    }\n",
              "  </style>\n",
              "\n",
              "      <script>\n",
              "        const buttonEl =\n",
              "          document.querySelector('#df-6be0645a-6885-4635-937d-590fdd7ff02e button.colab-df-convert');\n",
              "        buttonEl.style.display =\n",
              "          google.colab.kernel.accessAllowed ? 'block' : 'none';\n",
              "\n",
              "        async function convertToInteractive(key) {\n",
              "          const element = document.querySelector('#df-6be0645a-6885-4635-937d-590fdd7ff02e');\n",
              "          const dataTable =\n",
              "            await google.colab.kernel.invokeFunction('convertToInteractive',\n",
              "                                                     [key], {});\n",
              "          if (!dataTable) return;\n",
              "\n",
              "          const docLinkHtml = 'Like what you see? Visit the ' +\n",
              "            '<a target=\"_blank\" href=https://colab.research.google.com/notebooks/data_table.ipynb>data table notebook</a>'\n",
              "            + ' to learn more about interactive tables.';\n",
              "          element.innerHTML = '';\n",
              "          dataTable['output_type'] = 'display_data';\n",
              "          await google.colab.output.renderOutput(dataTable, element);\n",
              "          const docLink = document.createElement('div');\n",
              "          docLink.innerHTML = docLinkHtml;\n",
              "          element.appendChild(docLink);\n",
              "        }\n",
              "      </script>\n",
              "    </div>\n",
              "  </div>\n",
              "  "
            ]
          },
          "metadata": {},
          "execution_count": 33
        }
      ]
    },
    {
      "cell_type": "code",
      "source": [
        "# Let's see the shape of the claims\n",
        "print('Shape: ', claims.shape)"
      ],
      "metadata": {
        "colab": {
          "base_uri": "https://localhost:8080/"
        },
        "id": "DzmGj5mCWEHc",
        "outputId": "a5e862f7-d5b7-4718-d1f7-da3e29ac6b21"
      },
      "execution_count": 34,
      "outputs": [
        {
          "output_type": "stream",
          "name": "stdout",
          "text": [
            "Shape:  (98, 8)\n"
          ]
        }
      ]
    },
    {
      "cell_type": "code",
      "source": [
        "# Let's see which is the minimun Time to Close a claim\n",
        "claims['Time to Close'].describe()"
      ],
      "metadata": {
        "colab": {
          "base_uri": "https://localhost:8080/"
        },
        "id": "82mFMNq2WU1p",
        "outputId": "2b558de1-a4af-4557-da21-e2840b8b6fac"
      },
      "execution_count": 36,
      "outputs": [
        {
          "output_type": "execute_result",
          "data": {
            "text/plain": [
              "count      98.000000\n",
              "mean      832.346939\n",
              "std       686.851131\n",
              "min       -57.000000\n",
              "25%       340.750000\n",
              "50%       638.500000\n",
              "75%      1138.750000\n",
              "max      3591.000000\n",
              "Name: Time to Close, dtype: float64"
            ]
          },
          "metadata": {},
          "execution_count": 36
        }
      ]
    },
    {
      "cell_type": "code",
      "source": [
        "# Let's see which is the minimun Time to Close a claim\n",
        "claims['Time to Close'].min()"
      ],
      "metadata": {
        "colab": {
          "base_uri": "https://localhost:8080/"
        },
        "id": "igLYCjLCWrfW",
        "outputId": "23f427ea-a959-49f9-a105-a51f4c001721"
      },
      "execution_count": 37,
      "outputs": [
        {
          "output_type": "execute_result",
          "data": {
            "text/plain": [
              "-57"
            ]
          },
          "metadata": {},
          "execution_count": 37
        }
      ]
    },
    {
      "cell_type": "code",
      "source": [
        "# Let's replace with postive 57\n",
        "claims.loc[claims['Time to Close'] == -57, 'Time to Close'] = 57"
      ],
      "metadata": {
        "id": "dCYWR_S3W_pe"
      },
      "execution_count": 38,
      "outputs": []
    },
    {
      "cell_type": "code",
      "source": [
        "# Let's see which is the minimun Time to Close a claim\n",
        "claims['Time to Close'].describe()"
      ],
      "metadata": {
        "colab": {
          "base_uri": "https://localhost:8080/"
        },
        "id": "w1rsmTH3XVaY",
        "outputId": "1f215176-66fc-4d52-adb1-b59e22881dcc"
      },
      "execution_count": 39,
      "outputs": [
        {
          "output_type": "execute_result",
          "data": {
            "text/plain": [
              "count      98.000000\n",
              "mean      833.510204\n",
              "std       685.424441\n",
              "min        29.000000\n",
              "25%       340.750000\n",
              "50%       638.500000\n",
              "75%      1138.750000\n",
              "max      3591.000000\n",
              "Name: Time to Close, dtype: float64"
            ]
          },
          "metadata": {},
          "execution_count": 39
        }
      ]
    },
    {
      "cell_type": "code",
      "source": [
        "# Let's see the causes of the food poisoning\n",
        "claims['Cause'].value_counts()"
      ],
      "metadata": {
        "colab": {
          "base_uri": "https://localhost:8080/"
        },
        "id": "kghasRTPXYs8",
        "outputId": "d5c4e7b4-4eb8-4698-b1fe-dc9c1ee2b39e"
      },
      "execution_count": 40,
      "outputs": [
        {
          "output_type": "execute_result",
          "data": {
            "text/plain": [
              "meat          12\n",
              "vegetables     8\n",
              "Name: Cause, dtype: int64"
            ]
          },
          "metadata": {},
          "execution_count": 40
        }
      ]
    },
    {
      "cell_type": "code",
      "source": [
        "# Let's see how many NaN has the cause column\n",
        "claims.loc[claims.Cause.isnull()]"
      ],
      "metadata": {
        "colab": {
          "base_uri": "https://localhost:8080/",
          "height": 424
        },
        "id": "MWggxmIZYWS0",
        "outputId": "1063b13f-cb73-400c-f6f5-56b0d5a13a8f"
      },
      "execution_count": 41,
      "outputs": [
        {
          "output_type": "execute_result",
          "data": {
            "text/plain": [
              "                     Claim ID  Time to Close  Claim Amount  Amount Paid  \\\n",
              "0   0000000-00.2010.0.00.0094           2082       50000.0     34297.47   \n",
              "1   0000000-00.2011.0.00.0086           3591      180000.0     56383.54   \n",
              "3   0000000-00.2013.0.00.0096           1143       95104.0     29217.16   \n",
              "5   0000000-00.2014.0.00.0077            578      150000.0     23214.56   \n",
              "7   0000000-00.2014.0.00.0043           2354       40870.0     24161.73   \n",
              "..                        ...            ...           ...          ...   \n",
              "92  0000000-00.2020.0.00.0088            300      111970.0     43757.54   \n",
              "94  0000000-00.2020.0.00.0057             86       50000.0      8363.96   \n",
              "95  0000000-00.2020.0.00.0010            201       60000.0     42318.80   \n",
              "96  0000000-00.2020.0.00.0059            200      474542.0    329473.49   \n",
              "97  0000000-00.2020.0.00.0073            195       40000.0     15406.95   \n",
              "\n",
              "     Location  Individuals on Claim  Linked Cases Cause  \n",
              "0      RECIFE                     2         False   NaN  \n",
              "1    SAO LUIS                     7         False   NaN  \n",
              "3   FORTALEZA                     4         False   NaN  \n",
              "5   FORTALEZA                     6         False   NaN  \n",
              "7   FORTALEZA                     1         False   NaN  \n",
              "..        ...                   ...           ...   ...  \n",
              "92     RECIFE                     4         False   NaN  \n",
              "94  FORTALEZA                     2         False   NaN  \n",
              "95      NATAL                     2         False   NaN  \n",
              "96      NATAL                    20          True   NaN  \n",
              "97      NATAL                     1         False   NaN  \n",
              "\n",
              "[78 rows x 8 columns]"
            ],
            "text/html": [
              "\n",
              "  <div id=\"df-1da80084-f6c6-43a9-a3bf-993ccb3fbbf0\">\n",
              "    <div class=\"colab-df-container\">\n",
              "      <div>\n",
              "<style scoped>\n",
              "    .dataframe tbody tr th:only-of-type {\n",
              "        vertical-align: middle;\n",
              "    }\n",
              "\n",
              "    .dataframe tbody tr th {\n",
              "        vertical-align: top;\n",
              "    }\n",
              "\n",
              "    .dataframe thead th {\n",
              "        text-align: right;\n",
              "    }\n",
              "</style>\n",
              "<table border=\"1\" class=\"dataframe\">\n",
              "  <thead>\n",
              "    <tr style=\"text-align: right;\">\n",
              "      <th></th>\n",
              "      <th>Claim ID</th>\n",
              "      <th>Time to Close</th>\n",
              "      <th>Claim Amount</th>\n",
              "      <th>Amount Paid</th>\n",
              "      <th>Location</th>\n",
              "      <th>Individuals on Claim</th>\n",
              "      <th>Linked Cases</th>\n",
              "      <th>Cause</th>\n",
              "    </tr>\n",
              "  </thead>\n",
              "  <tbody>\n",
              "    <tr>\n",
              "      <th>0</th>\n",
              "      <td>0000000-00.2010.0.00.0094</td>\n",
              "      <td>2082</td>\n",
              "      <td>50000.0</td>\n",
              "      <td>34297.47</td>\n",
              "      <td>RECIFE</td>\n",
              "      <td>2</td>\n",
              "      <td>False</td>\n",
              "      <td>NaN</td>\n",
              "    </tr>\n",
              "    <tr>\n",
              "      <th>1</th>\n",
              "      <td>0000000-00.2011.0.00.0086</td>\n",
              "      <td>3591</td>\n",
              "      <td>180000.0</td>\n",
              "      <td>56383.54</td>\n",
              "      <td>SAO LUIS</td>\n",
              "      <td>7</td>\n",
              "      <td>False</td>\n",
              "      <td>NaN</td>\n",
              "    </tr>\n",
              "    <tr>\n",
              "      <th>3</th>\n",
              "      <td>0000000-00.2013.0.00.0096</td>\n",
              "      <td>1143</td>\n",
              "      <td>95104.0</td>\n",
              "      <td>29217.16</td>\n",
              "      <td>FORTALEZA</td>\n",
              "      <td>4</td>\n",
              "      <td>False</td>\n",
              "      <td>NaN</td>\n",
              "    </tr>\n",
              "    <tr>\n",
              "      <th>5</th>\n",
              "      <td>0000000-00.2014.0.00.0077</td>\n",
              "      <td>578</td>\n",
              "      <td>150000.0</td>\n",
              "      <td>23214.56</td>\n",
              "      <td>FORTALEZA</td>\n",
              "      <td>6</td>\n",
              "      <td>False</td>\n",
              "      <td>NaN</td>\n",
              "    </tr>\n",
              "    <tr>\n",
              "      <th>7</th>\n",
              "      <td>0000000-00.2014.0.00.0043</td>\n",
              "      <td>2354</td>\n",
              "      <td>40870.0</td>\n",
              "      <td>24161.73</td>\n",
              "      <td>FORTALEZA</td>\n",
              "      <td>1</td>\n",
              "      <td>False</td>\n",
              "      <td>NaN</td>\n",
              "    </tr>\n",
              "    <tr>\n",
              "      <th>...</th>\n",
              "      <td>...</td>\n",
              "      <td>...</td>\n",
              "      <td>...</td>\n",
              "      <td>...</td>\n",
              "      <td>...</td>\n",
              "      <td>...</td>\n",
              "      <td>...</td>\n",
              "      <td>...</td>\n",
              "    </tr>\n",
              "    <tr>\n",
              "      <th>92</th>\n",
              "      <td>0000000-00.2020.0.00.0088</td>\n",
              "      <td>300</td>\n",
              "      <td>111970.0</td>\n",
              "      <td>43757.54</td>\n",
              "      <td>RECIFE</td>\n",
              "      <td>4</td>\n",
              "      <td>False</td>\n",
              "      <td>NaN</td>\n",
              "    </tr>\n",
              "    <tr>\n",
              "      <th>94</th>\n",
              "      <td>0000000-00.2020.0.00.0057</td>\n",
              "      <td>86</td>\n",
              "      <td>50000.0</td>\n",
              "      <td>8363.96</td>\n",
              "      <td>FORTALEZA</td>\n",
              "      <td>2</td>\n",
              "      <td>False</td>\n",
              "      <td>NaN</td>\n",
              "    </tr>\n",
              "    <tr>\n",
              "      <th>95</th>\n",
              "      <td>0000000-00.2020.0.00.0010</td>\n",
              "      <td>201</td>\n",
              "      <td>60000.0</td>\n",
              "      <td>42318.80</td>\n",
              "      <td>NATAL</td>\n",
              "      <td>2</td>\n",
              "      <td>False</td>\n",
              "      <td>NaN</td>\n",
              "    </tr>\n",
              "    <tr>\n",
              "      <th>96</th>\n",
              "      <td>0000000-00.2020.0.00.0059</td>\n",
              "      <td>200</td>\n",
              "      <td>474542.0</td>\n",
              "      <td>329473.49</td>\n",
              "      <td>NATAL</td>\n",
              "      <td>20</td>\n",
              "      <td>True</td>\n",
              "      <td>NaN</td>\n",
              "    </tr>\n",
              "    <tr>\n",
              "      <th>97</th>\n",
              "      <td>0000000-00.2020.0.00.0073</td>\n",
              "      <td>195</td>\n",
              "      <td>40000.0</td>\n",
              "      <td>15406.95</td>\n",
              "      <td>NATAL</td>\n",
              "      <td>1</td>\n",
              "      <td>False</td>\n",
              "      <td>NaN</td>\n",
              "    </tr>\n",
              "  </tbody>\n",
              "</table>\n",
              "<p>78 rows × 8 columns</p>\n",
              "</div>\n",
              "      <button class=\"colab-df-convert\" onclick=\"convertToInteractive('df-1da80084-f6c6-43a9-a3bf-993ccb3fbbf0')\"\n",
              "              title=\"Convert this dataframe to an interactive table.\"\n",
              "              style=\"display:none;\">\n",
              "        \n",
              "  <svg xmlns=\"http://www.w3.org/2000/svg\" height=\"24px\"viewBox=\"0 0 24 24\"\n",
              "       width=\"24px\">\n",
              "    <path d=\"M0 0h24v24H0V0z\" fill=\"none\"/>\n",
              "    <path d=\"M18.56 5.44l.94 2.06.94-2.06 2.06-.94-2.06-.94-.94-2.06-.94 2.06-2.06.94zm-11 1L8.5 8.5l.94-2.06 2.06-.94-2.06-.94L8.5 2.5l-.94 2.06-2.06.94zm10 10l.94 2.06.94-2.06 2.06-.94-2.06-.94-.94-2.06-.94 2.06-2.06.94z\"/><path d=\"M17.41 7.96l-1.37-1.37c-.4-.4-.92-.59-1.43-.59-.52 0-1.04.2-1.43.59L10.3 9.45l-7.72 7.72c-.78.78-.78 2.05 0 2.83L4 21.41c.39.39.9.59 1.41.59.51 0 1.02-.2 1.41-.59l7.78-7.78 2.81-2.81c.8-.78.8-2.07 0-2.86zM5.41 20L4 18.59l7.72-7.72 1.47 1.35L5.41 20z\"/>\n",
              "  </svg>\n",
              "      </button>\n",
              "      \n",
              "  <style>\n",
              "    .colab-df-container {\n",
              "      display:flex;\n",
              "      flex-wrap:wrap;\n",
              "      gap: 12px;\n",
              "    }\n",
              "\n",
              "    .colab-df-convert {\n",
              "      background-color: #E8F0FE;\n",
              "      border: none;\n",
              "      border-radius: 50%;\n",
              "      cursor: pointer;\n",
              "      display: none;\n",
              "      fill: #1967D2;\n",
              "      height: 32px;\n",
              "      padding: 0 0 0 0;\n",
              "      width: 32px;\n",
              "    }\n",
              "\n",
              "    .colab-df-convert:hover {\n",
              "      background-color: #E2EBFA;\n",
              "      box-shadow: 0px 1px 2px rgba(60, 64, 67, 0.3), 0px 1px 3px 1px rgba(60, 64, 67, 0.15);\n",
              "      fill: #174EA6;\n",
              "    }\n",
              "\n",
              "    [theme=dark] .colab-df-convert {\n",
              "      background-color: #3B4455;\n",
              "      fill: #D2E3FC;\n",
              "    }\n",
              "\n",
              "    [theme=dark] .colab-df-convert:hover {\n",
              "      background-color: #434B5C;\n",
              "      box-shadow: 0px 1px 3px 1px rgba(0, 0, 0, 0.15);\n",
              "      filter: drop-shadow(0px 1px 2px rgba(0, 0, 0, 0.3));\n",
              "      fill: #FFFFFF;\n",
              "    }\n",
              "  </style>\n",
              "\n",
              "      <script>\n",
              "        const buttonEl =\n",
              "          document.querySelector('#df-1da80084-f6c6-43a9-a3bf-993ccb3fbbf0 button.colab-df-convert');\n",
              "        buttonEl.style.display =\n",
              "          google.colab.kernel.accessAllowed ? 'block' : 'none';\n",
              "\n",
              "        async function convertToInteractive(key) {\n",
              "          const element = document.querySelector('#df-1da80084-f6c6-43a9-a3bf-993ccb3fbbf0');\n",
              "          const dataTable =\n",
              "            await google.colab.kernel.invokeFunction('convertToInteractive',\n",
              "                                                     [key], {});\n",
              "          if (!dataTable) return;\n",
              "\n",
              "          const docLinkHtml = 'Like what you see? Visit the ' +\n",
              "            '<a target=\"_blank\" href=https://colab.research.google.com/notebooks/data_table.ipynb>data table notebook</a>'\n",
              "            + ' to learn more about interactive tables.';\n",
              "          element.innerHTML = '';\n",
              "          dataTable['output_type'] = 'display_data';\n",
              "          await google.colab.output.renderOutput(dataTable, element);\n",
              "          const docLink = document.createElement('div');\n",
              "          docLink.innerHTML = docLinkHtml;\n",
              "          element.appendChild(docLink);\n",
              "        }\n",
              "      </script>\n",
              "    </div>\n",
              "  </div>\n",
              "  "
            ]
          },
          "metadata": {},
          "execution_count": 41
        }
      ]
    },
    {
      "cell_type": "code",
      "source": [
        "# The causes of the food poisoning injuries are ‘vegetable’, ‘meat’, or ‘unknown’. Replace any empty rows with ‘unknown’.\n",
        "claims = claims.fillna({'Cause':'unknown'})"
      ],
      "metadata": {
        "id": "t8cAbks9Ye5J"
      },
      "execution_count": 42,
      "outputs": []
    },
    {
      "cell_type": "code",
      "source": [
        "# Let's also replace 'vegetables' by 'vegetable'.\n",
        "claims['Cause'] = claims['Cause'].str.replace('vegetables','vegetable', regex=True)"
      ],
      "metadata": {
        "id": "Vy2u64S4Yj-1"
      },
      "execution_count": 43,
      "outputs": []
    },
    {
      "cell_type": "code",
      "source": [
        "# Let's see the causes of the food poisoning\n",
        "claims['Cause'].value_counts()"
      ],
      "metadata": {
        "colab": {
          "base_uri": "https://localhost:8080/"
        },
        "id": "0iUF82qqYsaD",
        "outputId": "18d2519a-845e-494f-f0f8-b8aa5091036b"
      },
      "execution_count": 44,
      "outputs": [
        {
          "output_type": "execute_result",
          "data": {
            "text/plain": [
              "unknown      78\n",
              "meat         12\n",
              "vegetable     8\n",
              "Name: Cause, dtype: int64"
            ]
          },
          "metadata": {},
          "execution_count": 44
        }
      ]
    },
    {
      "cell_type": "code",
      "source": [
        "# Let's cluster the location\n",
        "sns.set_theme()\n",
        "diamonds= sns.load_dataset(\"diamonds\")\n",
        "\n",
        "claims.groupby('Location')['Location'].count().plot(kind='bar', rot=360, color='black')\n",
        "plt.title('Number of claims per location')\n",
        "plt.ylabel('Number of claims')"
      ],
      "metadata": {
        "colab": {
          "base_uri": "https://localhost:8080/",
          "height": 318
        },
        "id": "d8h_OiIHZO80",
        "outputId": "900c07c9-f42a-4b2e-be43-7326c2945e05"
      },
      "execution_count": 45,
      "outputs": [
        {
          "output_type": "execute_result",
          "data": {
            "text/plain": [
              "Text(0, 0.5, 'Number of claims')"
            ]
          },
          "metadata": {},
          "execution_count": 45
        },
        {
          "output_type": "display_data",
          "data": {
            "text/plain": [
              "<Figure size 432x288 with 1 Axes>"
            ],
            "image/png": "[encoded data removed]"
          },
          "metadata": {}
        }
      ]
    },
    {
      "cell_type": "code",
      "source": [
        "# QUESTION 2\n",
        "# What is the distribution of time to close claims?\n",
        "\n",
        "sns.set_theme(style=\"ticks\")\n",
        "diamonds= sns.load_dataset(\"diamonds\")\n",
        "\n",
        "sns.displot(claims, x='Time to Close', kde=True, color='black')\n",
        "plt.title('Distribution of time to close claims')\n",
        "plt.xlabel('Time to close claim (days)')\n",
        "plt.ylabel('Number of claims')"
      ],
      "metadata": {
        "colab": {
          "base_uri": "https://localhost:8080/",
          "height": 398
        },
        "id": "nSheEYeIaIqk",
        "outputId": "d57effa7-a50b-4f7d-8620-faa4125d80ee"
      },
      "execution_count": 46,
      "outputs": [
        {
          "output_type": "execute_result",
          "data": {
            "text/plain": [
              "Text(12.334999999999994, 0.5, 'Number of claims')"
            ]
          },
          "metadata": {},
          "execution_count": 46
        },
        {
          "output_type": "display_data",
          "data": {
            "text/plain": [
              "<Figure size 360x360 with 1 Axes>"
            ],
            "image/png": "[encoded data removed]"
          },
          "metadata": {}
        }
      ]
    },
    {
      "cell_type": "code",
      "source": [
        "# QUESTION 3\n",
        "# How does the average time to close claims differ by location?\n",
        "\n",
        "plt.figure(figsize = (10,8))\n",
        "\n",
        "sns.boxplot(data=claims, x=\"Location\", y=\"Time to Close\")\n",
        "plt.title('Time to close by location')\n",
        "plt.ylabel('Time to close')\n",
        "plt.xlabel('Location')"
      ],
      "metadata": {
        "colab": {
          "base_uri": "https://localhost:8080/",
          "height": 535
        },
        "id": "Si0qVZ43aclI",
        "outputId": "34def393-720a-4916-a731-26eed45390a5"
      },
      "execution_count": 47,
      "outputs": [
        {
          "output_type": "execute_result",
          "data": {
            "text/plain": [
              "Text(0.5, 0, 'Location')"
            ]
          },
          "metadata": {},
          "execution_count": 47
        },
        {
          "output_type": "display_data",
          "data": {
            "text/plain": [
              "<Figure size 720x576 with 1 Axes>"
            ],
            "image/png": "[encoded data removed]"
          },
          "metadata": {}
        }
      ]
    },
    {
      "cell_type": "code",
      "source": [
        "plt.figure(figsize = (10,8))\n",
        "\n",
        "sns.barplot(data =claims, x = 'Location', y ='Time to Close')\n",
        "plt.title('Average time to close by location')\n",
        "plt.ylabel('Time to close (days)')\n",
        "plt.xlabel('Location')"
      ],
      "metadata": {
        "colab": {
          "base_uri": "https://localhost:8080/",
          "height": 535
        },
        "id": "A6Ypu1uHalsH",
        "outputId": "c50b17a7-143d-4c8c-c472-e259da2f6c4d"
      },
      "execution_count": 48,
      "outputs": [
        {
          "output_type": "execute_result",
          "data": {
            "text/plain": [
              "Text(0.5, 0, 'Location')"
            ]
          },
          "metadata": {},
          "execution_count": 48
        },
        {
          "output_type": "display_data",
          "data": {
            "text/plain": [
              "<Figure size 720x576 with 1 Axes>"
            ],
            "image/png": "[encoded data removed]"
          },
          "metadata": {}
        }
      ]
    }
  ]
}